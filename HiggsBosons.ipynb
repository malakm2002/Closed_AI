{
  "cells": [
    {
      "attachments": {},
      "cell_type": "markdown",
      "metadata": {},
      "source": [
        "**Group Name:** *Closed AI*\n",
        "\n",
        "**Members**: \n",
        "\n",
        "    1. Malak Mehrez\n",
        "\n",
        "    2. Sergio Khalil\n",
        "\n",
        "    3. Tamer AlBouz\n",
        "\n",
        "\n",
        "**Kindly check the README.md File**   "
      ]
    },
    {
      "cell_type": "code",
      "execution_count": null,
      "metadata": {
        "id": "2yNCR504X1Al"
      },
      "outputs": [],
      "source": [
        "# needed librairies\n",
        "import pandas as pd\n",
        "import numpy as np\n",
        "import xgboost as xgb\n",
        "from sklearn.model_selection import train_test_split\n",
        "from sklearn.tree import DecisionTreeClassifier\n",
        "from sklearn.linear_model import LogisticRegression\n",
        "from sklearn.linear_model import LinearRegression\n",
        "from sklearn.metrics import accuracy_score, roc_auc_score\n",
        "from sklearn.metrics import mean_squared_error\n",
        "import tensorflow as tf\n",
        "from keras.callbacks import ModelCheckpoint"
      ]
    },
    {
      "cell_type": "markdown",
      "metadata": {
        "id": "9UKkmkmlO3v2"
      },
      "source": [
        "**Loading Data**"
      ]
    },
    {
      "cell_type": "code",
      "execution_count": null,
      "metadata": {
        "colab": {
          "base_uri": "https://localhost:8080/"
        },
        "id": "VltNZxjiO8n6",
        "outputId": "4453d9fb-309e-4872-c9b9-34a5420e107a"
      },
      "outputs": [],
      "source": [
        "# grant access to the google drive\n",
        "from google.colab import drive\n",
        "drive.mount('/content/drive',force_remount=True)\n",
        "\n",
        "# load the dataset located in a folder named \"ML\" that's in your root Google Drive\n",
        "data = pd.read_csv('/content/drive/MyDrive/ML/HIGGS_train.csv', dtype={'8': float, '21': float})\n",
        "\n",
        "# define the headers of the dataset\n",
        "column_names = ['class_label', 'lepton_pt', 'lepton_eta', 'lepton_phi', 'missing_energy_magnitude', 'missing_energy_phi',\n",
        "                'jet_1_pt', 'jet_1_eta', 'jet_1_phi', 'jet_1_btag', 'jet_2_pt', 'jet_2_eta', 'jet_2_phi', 'jet_2_btag',\n",
        "                'jet_3_pt', 'jet_3_eta', 'jet_3_phi', 'jet_3_btag', 'jet_4_pt', 'jet_4_eta', 'jet_4_phi', 'jet_4_btag',\n",
        "                'm_jj', 'm_jjj', 'm_lv', 'm_jlv', 'm_bb', 'm_wbb', 'm_wwbb']\n",
        "\n",
        "# assign the headers to the data\n",
        "data.columns=column_names\n",
        "\n",
        "cleaned_data = data.copy();"
      ]
    },
    {
      "cell_type": "markdown",
      "metadata": {
        "id": "ke4ls9x0PkcZ"
      },
      "source": [
        "**Exploring Data**"
      ]
    },
    {
      "cell_type": "code",
      "execution_count": null,
      "metadata": {
        "colab": {
          "base_uri": "https://localhost:8080/"
        },
        "id": "zTVuRozqvrA3",
        "outputId": "4373fa44-56f9-46e4-bcfc-ffc15d136c8a"
      },
      "outputs": [],
      "source": [
        "# check the first few rows of the data\n",
        "print(\"The first few rows:\\n\")\n",
        "print(data.head())\n",
        "print(\"\\n\")\n",
        "\n",
        "# retrive the information of the data\n",
        "print(\"Data Information:\\n\")\n",
        "print(data.info())\n",
        "print(\"\\n\")\n",
        "\n",
        "# retrive basic statistics about the data\n",
        "print(\"Data Statistics:\\n\")\n",
        "print(data.describe())\n",
        "print(\"\\n\")\n",
        "\n",
        "# retrive the shape of the data\n",
        "print(\"Data Shape:\\n\")\n",
        "print(data.shape)\n",
        "print(\"\\n\")"
      ]
    },
    {
      "cell_type": "code",
      "execution_count": null,
      "metadata": {
        "colab": {
          "base_uri": "https://localhost:8080/"
        },
        "id": "4rtShkKEUxng",
        "outputId": "3343dcc1-1486-4703-d6cb-807c3fc8cfe5"
      },
      "outputs": [],
      "source": [
        "# the columns 8 and 21 are of type objects: string\n",
        "# the values of these columns will be checked, \n",
        "# looking for unexpected values that lead to having mixed data types\n",
        "\n",
        "# column 8\n",
        "print(\"Column 8: \")\n",
        "print(cleaned_data['jet_1_phi'].unique())\n",
        "# result: \n",
        "  # 1. float64 numeric values in string objects\n",
        "  # 2. float64 numeric values in string objects and stored in a string object\n",
        "\n",
        "# solution:\n",
        "cleaned_data['jet_1_phi']=pd.to_numeric(cleaned_data['jet_1_phi'],errors='coerce')\n",
        "print(cleaned_data['jet_1_phi'].unique().size)\n",
        "\n",
        "# column 21\n",
        "print(\"Column 21: \")\n",
        "print(cleaned_data['jet_4_btag'].unique())\n",
        "# result:\n",
        "  # 1. float64 numeric values in string objects instead of float64 type\n",
        "  # 2. alphabetical values in string objects\n",
        "\n",
        "#solution:\n",
        "cleaned_data['jet_4_btag']=pd.to_numeric(cleaned_data['jet_4_btag'], errors='coerce')\n",
        "print(cleaned_data['jet_4_btag'].unique().size)\n"
      ]
    },
    {
      "cell_type": "markdown",
      "metadata": {
        "id": "cERkTjIlSqqN"
      },
      "source": [
        "**Data Cleaning**"
      ]
    },
    {
      "cell_type": "code",
      "execution_count": null,
      "metadata": {
        "id": "7x7hKsArStu0"
      },
      "outputs": [],
      "source": [
        "# remove the training examples with NaN values from the dataset\n",
        "cleaned_data.dropna(inplace=True)"
      ]
    },
    {
      "attachments": {},
      "cell_type": "markdown",
      "metadata": {},
      "source": [
        "For **regression and decision trees**, we will use the complete set of features (low-level and high-level combined) to take advantage of the manually constructed high-level features."
      ]
    },
    {
      "attachments": {},
      "cell_type": "markdown",
      "metadata": {},
      "source": [
        "**Usage of the complete set of features**"
      ]
    },
    {
      "attachments": {},
      "cell_type": "markdown",
      "metadata": {},
      "source": [
        "**test_size** determines the proportion of the data that will be allocated for the testing set. In this case, test_size=0.2 means that **20%** of the data will be used **for testing**, and the remaining **80%** will be used for **training**.\n",
        "\n",
        "**random_state** is an optional parameter that sets the random seed used by the random number generator. This **ensures** that the **random splitting of the data is reproducible**, meaning that if you run the same code multiple times with the same random_state value, you will get the same split of data into training and testing sets."
      ]
    },
    {
      "cell_type": "code",
      "execution_count": null,
      "metadata": {},
      "outputs": [],
      "source": [
        "# Split the dataset into training and testing sets\n",
        "X = cleaned_data.iloc[:, 1:]  # Select all columns except the first one as features\n",
        "y = cleaned_data.iloc[:, 0]   # Select the first column as the target variable\n",
        "X_train, X_test, y_train, y_test = train_test_split(X, y, test_size=0.2, random_state=42)\n"
      ]
    },
    {
      "attachments": {},
      "cell_type": "markdown",
      "metadata": {},
      "source": [
        "**Linear Regression Model**"
      ]
    },
    {
      "cell_type": "code",
      "execution_count": null,
      "metadata": {
        "id": "3LyEIlbGvv32"
      },
      "outputs": [],
      "source": [
        "# Create a linear regression model and fit it to the training set\n",
        "model = LinearRegression()\n",
        "model.fit(X_train, y_train)\n",
        "\n",
        "# Use the model to make predictions on the test set\n",
        "y_pred = model.predict(X_test)\n",
        "\n",
        "# Evaluate the model's mean squared error\n",
        "mse = mean_squared_error(y_test, y_pred)\n",
        "print('Mean Squared Error: {:.2f}'.format(mse))"
      ]
    },
    {
      "attachments": {},
      "cell_type": "markdown",
      "metadata": {},
      "source": [
        "**Logistic Regression**"
      ]
    },
    {
      "cell_type": "code",
      "execution_count": null,
      "metadata": {
        "id": "TJ_3iODhzFJv"
      },
      "outputs": [],
      "source": [
        "model = LogisticRegression(penalty= \"l2\", C=0.1)\n",
        "model.fit(X_train, y_train)\n",
        "\n",
        "y_pred = model.predict(X_test)\n",
        "\n",
        "print('Accuracy:', accuracy_score(y_test, y_pred))"
      ]
    },
    {
      "attachments": {},
      "cell_type": "markdown",
      "metadata": {},
      "source": [
        "**Decision Trees**"
      ]
    },
    {
      "cell_type": "code",
      "execution_count": null,
      "metadata": {
        "colab": {
          "base_uri": "https://localhost:8080/",
          "height": 485
        },
        "id": "KTkhdAXex1vA",
        "outputId": "0a10b4b8-f34e-41fd-c1f2-febcbfa45019"
      },
      "outputs": [],
      "source": [
        "# Create a decision tree classifier and fit it to the training set\n",
        "clf = DecisionTreeClassifier(random_state=42, max_depth=11, min_samples_split=11, splitter=\"best\", min_impurity_decrease=0.0)\n",
        "clf.fit(X_train, y_train)\n",
        "\n",
        "# Evaluate the classifier's accuracy on the test set\n",
        "accuracy_decisionTrees = clf.score(X_test, y_test)\n",
        "print('Accuracy: {:.4f}'.format(accuracy_decisionTrees))"
      ]
    },
    {
      "attachments": {},
      "cell_type": "markdown",
      "metadata": {},
      "source": [
        "**XGBoost**"
      ]
    },
    {
      "cell_type": "code",
      "execution_count": null,
      "metadata": {},
      "outputs": [],
      "source": [
        "# Define the XGB model\n",
        "xgb_model = xgb.XGBClassifier()\n",
        "\n",
        "# Train the model on the training data\n",
        "xgb_model.fit(X_train, y_train)\n",
        "\n",
        "# Make predictions on the testing data\n",
        "y_pred = xgb_model.predict(X_test)\n",
        "\n",
        "# Evaluate the model's accuracy\n",
        "accuracy = accuracy_score(y_test, y_pred)\n",
        "print(\"Model accuracy:\", accuracy)"
      ]
    },
    {
      "attachments": {},
      "cell_type": "markdown",
      "metadata": {},
      "source": [
        "**Neural Network**"
      ]
    },
    {
      "attachments": {},
      "cell_type": "markdown",
      "metadata": {},
      "source": [
        "According to the paper, for the *Higgs boson benchmarks*, we can use a neural network to classify the data by training it on a set of input features and corresponding labels. For the Higgs boson benchmark, we can use *either* the **low-level features**, the **high-level features**, **or the complete set of features** (low-level and high-level combined) as **inputs** to the neural network.\n",
        "\n",
        "The paper mentions that standard techniques in high-energy physics data analyses include **feed-forward neural networks with a single hidden layer**, which is an example of a *traditional shallow network*.\n",
        "\n",
        "However, recent advances in deep-learning techniques may lift the limitations of shallow networks by automatically discovering powerful nonlinear feature combinations and providing better discrimination power than current classifiers.\n",
        "\n",
        "To train a neural network, we need to choose its architecture (number of layers and units per layer), activation function, and other hyperparameters such as learning rate and regularization. The paper provides some details about the hyperparameters used for training deep neural networks on the Higgs boson. Once the network is trained, we can use it to make predictions on new data by feeding the input features through the network and computing the output probabilities."
      ]
    },
    {
      "attachments": {},
      "cell_type": "markdown",
      "metadata": {},
      "source": [
        "According to the paper, for training deep neural networks on the Higgs boson, a **five-layer** neural network with **300 hidden units in each layer** was selected, with a **learning rate of 0.05**, and a weight decay coefficient of 1 × 10 −5.\n",
        "\n",
        "Pre-training, extra hidden units, and additional hidden layers significantly increased training time without noticeably increasing performance.\n",
        "\n",
        "Hidden units all used the **tanh activation function**. Weights were initialized from a normal distribution with zero mean and standard deviation 0.1 in the first layer, 0.001 in the output layer, and 0.05 in all other hidden layers. Gradient computations were made on mini-batches of size 100."
      ]
    },
    {
      "cell_type": "code",
      "execution_count": null,
      "metadata": {},
      "outputs": [],
      "source": [
        "# load the low-level features\n",
        "X = cleaned_data.iloc[:, 2:23] # Select columns 2 to 22 as features: the 21 low-level features\n",
        "y = cleaned_data.iloc[:, 0]    # Select the first column as the target variable\n",
        "\n",
        "\n",
        "X_train, X_test, y_train, y_test = train_test_split(X, y, test_size=0.2, random_state=42)"
      ]
    },
    {
      "attachments": {},
      "cell_type": "markdown",
      "metadata": {},
      "source": [
        "**Tanh**, short for hyperbolic tangent, is a commonly used activation function in neural networks. It is a nonlinear function that **maps the input values to a range between -1 and 1**. The tanh function is defined mathematically as:\n",
        "\n",
        "tanh(x) = (exp(x) - exp(-x)) / (exp(x) + exp(-x))\n",
        "\n",
        "Like other activation functions, tanh is used to introduce nonlinearity to the output of a neuron in a neural network. It is often used in the hidden layers of neural networks as it allows the network to **capture more complex patterns in the data**.\n",
        "\n",
        "**Momentum** is a technique used in the *optimization of gradient descent* algorithms to *accelerate the convergence* of the training process.\n",
        "**Momentum** adds a fraction of the previous update vector to the current update vector, which helps to smooth the optimization trajectory and avoid getting stuck in local minima."
      ]
    },
    {
      "cell_type": "code",
      "execution_count": null,
      "metadata": {},
      "outputs": [],
      "source": [
        "batch = 300\n",
        "act = 'tanh'\n",
        "neurons = 400\n",
        "nb_epoch=1400\n",
        "# Define the neural network architecture\n",
        "model = tf.keras.Sequential([\n",
        "    tf.keras.layers.Dense(neurons, activation=act, input_dim=X_train.shape[1], kernel_initializer=tf.keras.initializers.RandomNormal(mean=0.0, stddev=0.1)),\n",
        "    tf.keras.layers.Dense(neurons, activation=act, kernel_initializer=tf.keras.initializers.RandomNormal(mean=0.0, stddev=0.05)),\n",
        "    tf.keras.layers.Dense(neurons, activation=act, kernel_initializer=tf.keras.initializers.RandomNormal(mean=0.0, stddev=0.05)),\n",
        "    tf.keras.layers.Dense(neurons, activation=act, kernel_initializer=tf.keras.initializers.RandomNormal(mean=0.0, stddev=0.05)),\n",
        "    tf.keras.layers.Dense(neurons, activation=act,  kernel_initializer=tf.keras.initializers.RandomNormal(mean=0.0, stddev=0.05)),\n",
        "    tf.keras.layers.Dense(1, activation='sigmoid', kernel_initializer=tf.keras.initializers.RandomNormal(mean=0.0, stddev=0.001))\n",
        "])\n",
        "\n",
        "# Compile the model with specified hyperparameters\n",
        "opt = tf.keras.optimizers.SGD(learning_rate=0.05, momentum=0.9)\n",
        "model.compile(optimizer=opt, loss='binary_crossentropy', metrics=['accuracy'])\n",
        "\n",
        "# create a callback to save the model with the highest accuracy\n",
        "checkpoint = ModelCheckpoint('best_model.h5', monitor='val_accuracy', save_best_only=True, mode='max')\n",
        "\n",
        "# Train the model and evaluate on a validation set\n",
        "history = model.fit(X_train, y_train, validation_data=(X_test, y_test), batch_size=batch, epochs=nb_epoch, verbose=1, callbacks=[checkpoint])\n",
        "\n",
        "# load the weights of the best model\n",
        "model.load_weights('best_model.h5')\n",
        "\n",
        "# Evaluate the model on the test set\n",
        "y_pred = model.predict(X_test)\n",
        "y_pred = [1 if y >= 0.5 else 0 for y in y_pred]  # convert probabilities to binary predictions\n",
        "\n",
        "# calculate the accuracy \n",
        "accuracy = accuracy_score(y_test, y_pred)\n",
        "print('Accuracy: {:.4f}'.format(accuracy))"
      ]
    },
    {
      "attachments": {},
      "cell_type": "markdown",
      "metadata": {},
      "source": [
        "The decrease in the mean and standard deviation of the weight initialization is to prevent exploding gradients as we move forward towards the output layer during training."
      ]
    },
    {
      "attachments": {},
      "cell_type": "markdown",
      "metadata": {},
      "source": [
        "**Regularizers and Stochastic Gradient Descent** (SGD) are two important techniques used in training neural networks to improve the accuracy and generalization performance of the model."
      ]
    },
    {
      "attachments": {},
      "cell_type": "markdown",
      "metadata": {},
      "source": [
        "**Regularization** is a technique used to prevent overfitting by adding a penalty term to the loss function. Regularization encourages the model to have small weights and biases, which helps to reduce the complexity of the model and prevent it from fitting noise in the training data.\n",
        "**L2 regularization** adds a penalty proportional to the square of the weights, and dropout randomly sets some neurons to zero during training. "
      ]
    },
    {
      "attachments": {},
      "cell_type": "markdown",
      "metadata": {},
      "source": [
        "**SGD** is an optimization algorithm used to minimize the loss function during training. In contrast to batch gradient descent, which computes the gradient of the loss function using the entire dataset, SGD updates the model parameters using only a small subset of the data at a time. This makes it computationally efficient and able to handle large datasets"
      ]
    },
    {
      "attachments": {},
      "cell_type": "markdown",
      "metadata": {},
      "source": [
        "By **combining these two techniques**, the model is able to learn the underlying patterns in the training data while preventing it from overfitting and generalizing well to new data.\n"
      ]
    }
  ],
  "metadata": {
    "colab": {
      "provenance": []
    },
    "kernelspec": {
      "display_name": "Python 3",
      "name": "python3"
    },
    "language_info": {
      "codemirror_mode": {
        "name": "ipython",
        "version": 3
      },
      "file_extension": ".py",
      "mimetype": "text/x-python",
      "name": "python",
      "nbconvert_exporter": "python",
      "pygments_lexer": "ipython3",
      "version": "3.10.11"
    }
  },
  "nbformat": 4,
  "nbformat_minor": 0
}
